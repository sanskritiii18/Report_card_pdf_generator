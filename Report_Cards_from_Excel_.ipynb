{
  "nbformat": 4,
  "nbformat_minor": 0,
  "metadata": {
    "colab": {
      "provenance": [],
      "authorship_tag": "ABX9TyODsKAJUIvpzrAdJ+REhwBZ",
      "include_colab_link": true
    },
    "kernelspec": {
      "name": "python3",
      "display_name": "Python 3"
    },
    "language_info": {
      "name": "python"
    }
  },
  "cells": [
    {
      "cell_type": "markdown",
      "metadata": {
        "id": "view-in-github",
        "colab_type": "text"
      },
      "source": [
        "<a href=\"https://colab.research.google.com/github/sanskritiii18/Report_card_pdf_generator/blob/main/Report_Cards_from_Excel_.ipynb\" target=\"_parent\"><img src=\"https://colab.research.google.com/assets/colab-badge.svg\" alt=\"Open In Colab\"/></a>"
      ]
    },
    {
      "cell_type": "code",
      "source": [
        "import pandas as pd"
      ],
      "metadata": {
        "id": "LvmIqzd5Tomx"
      },
      "execution_count": 1,
      "outputs": []
    },
    {
      "cell_type": "code",
      "source": [
        "try:\n",
        "  df = pd.read_excel('/student_scores (1).xlsx')\n",
        "except FileNotFoundError as e:\n",
        "    print(e)\n",
        "except Exception as e:\n",
        "    print(f\"An error occurred: {e}\")"
      ],
      "metadata": {
        "id": "ZY7rAX8lpLiR"
      },
      "execution_count": 5,
      "outputs": []
    },
    {
      "cell_type": "code",
      "source": [
        "print(df)"
      ],
      "metadata": {
        "colab": {
          "base_uri": "https://localhost:8080/"
        },
        "id": "0qYTjSAz0Vw_",
        "outputId": "3ac0f619-8c44-4498-f67b-a2dad9a83ab2"
      },
      "execution_count": 6,
      "outputs": [
        {
          "output_type": "stream",
          "name": "stdout",
          "text": [
            "   Student ID         Name  Subject  Score\n",
            "0           1     John Doe     Math     88\n",
            "1           2   Jane Smith     Math     92\n",
            "2           3  Emily Davis     Math     85\n",
            "3           1     John Doe  Science     90\n",
            "4           2   Jane Smith  Science     89\n",
            "5           3  Emily Davis  Science     84\n",
            "6           1     John Doe  English     78\n",
            "7           2   Jane Smith  English     95\n",
            "8           3  Emily Davis  English     91\n"
          ]
        }
      ]
    },
    {
      "cell_type": "code",
      "source": [
        "grouped_data = df.groupby('Name')['Score'].agg(total_score='sum', average_score='mean').reset_index()"
      ],
      "metadata": {
        "id": "3D36g5KC0Z4i"
      },
      "execution_count": 7,
      "outputs": []
    },
    {
      "cell_type": "code",
      "source": [
        "print(grouped_data)"
      ],
      "metadata": {
        "colab": {
          "base_uri": "https://localhost:8080/"
        },
        "id": "KkeLEp7D4RR2",
        "outputId": "d4fec34c-fe30-4f9b-c418-a3739e0ba53b"
      },
      "execution_count": 8,
      "outputs": [
        {
          "output_type": "stream",
          "name": "stdout",
          "text": [
            "          Name  total_score  average_score\n",
            "0  Emily Davis          260      86.666667\n",
            "1   Jane Smith          276      92.000000\n",
            "2     John Doe          256      85.333333\n"
          ]
        }
      ]
    },
    {
      "cell_type": "code",
      "source": [
        "required_columns = ['Name', 'Subject', 'Score']\n",
        "missing_columns = [col for col in required_columns if col not in df.columns]"
      ],
      "metadata": {
        "id": "PCsMk9rz1e8y"
      },
      "execution_count": 9,
      "outputs": []
    },
    {
      "cell_type": "code",
      "source": [
        "if missing_columns:\n",
        "        raise KeyError(f\"The following columns are missing: {', '.join(missing_columns)}\")\n"
      ],
      "metadata": {
        "id": "oPea9b5C5Vpj"
      },
      "execution_count": 10,
      "outputs": []
    },
    {
      "cell_type": "code",
      "source": [
        "!pip install reportlab\n",
        "\n"
      ],
      "metadata": {
        "colab": {
          "base_uri": "https://localhost:8080/"
        },
        "id": "HF9dwWXT6Tar",
        "outputId": "1d5088f9-d2f1-4b51-f7bf-524c85f862b8"
      },
      "execution_count": 11,
      "outputs": [
        {
          "output_type": "stream",
          "name": "stdout",
          "text": [
            "Collecting reportlab\n",
            "  Downloading reportlab-4.2.5-py3-none-any.whl.metadata (1.5 kB)\n",
            "Requirement already satisfied: pillow>=9.0.0 in /usr/local/lib/python3.11/dist-packages (from reportlab) (11.1.0)\n",
            "Requirement already satisfied: chardet in /usr/local/lib/python3.11/dist-packages (from reportlab) (5.2.0)\n",
            "Downloading reportlab-4.2.5-py3-none-any.whl (1.9 MB)\n",
            "\u001b[2K   \u001b[90m━━━━━━━━━━━━━━━━━━━━━━━━━━━━━━━━━━━━━━━━\u001b[0m \u001b[32m1.9/1.9 MB\u001b[0m \u001b[31m9.7 MB/s\u001b[0m eta \u001b[36m0:00:00\u001b[0m\n",
            "\u001b[?25hInstalling collected packages: reportlab\n",
            "Successfully installed reportlab-4.2.5\n"
          ]
        }
      ]
    },
    {
      "cell_type": "code",
      "source": [
        "from reportlab.lib.pagesizes import letter\n",
        "from reportlab.lib import colors\n",
        "from reportlab.pdfgen import canvas"
      ],
      "metadata": {
        "id": "YeYdyubd7Nxl"
      },
      "execution_count": 12,
      "outputs": []
    },
    {
      "cell_type": "code",
      "source": [
        "def generate_report_card(student_name, total_score, average_score, subject_scores):\n",
        "    pdf_filename = f\"/content/report_card_{student_name}.pdf\"\n",
        "    c = canvas.Canvas(pdf_filename, pagesize=letter)\n",
        "\n",
        "    c.setFont(\"Helvetica-Bold\", 18)\n",
        "    c.drawString(200, 750, f\"Report Card for {student_name}\")\n",
        "    c.setFont(\"Helvetica\", 12)\n",
        "    c.drawString(50, 700, f\"Total Score: {total_score}\")\n",
        "    c.drawString(50, 680, f\"Average Score: {average_score:.2f}\")\n",
        "    c.setFont(\"Helvetica-Bold\", 12)\n",
        "    c.drawString(50, 620, \"Subject-wise Scores:\")\n",
        "    c.setFont(\"Helvetica\", 10)\n",
        "    c.drawString(50, 600, \"Subject\")\n",
        "    c.drawString(200, 600, \"Score\")\n",
        "    y_position = 580\n",
        "    for subject, score in subject_scores:\n",
        "        c.drawString(50, y_position, subject)\n",
        "        c.drawString(200, y_position, str(score))\n",
        "        y_position -= 20\n",
        "\n",
        "    c.save()\n",
        "\n",
        "for _, row in grouped_data.iterrows():\n",
        "    student_name = row['Name']\n",
        "    total_score = row['total_score']\n",
        "    average_score = row['average_score']\n",
        "\n",
        "\n",
        "    subject_scores = df[df['Name'] == student_name][['Subject', 'Score']].values.tolist()\n",
        "    generate_report_card(student_name, total_score, average_score, subject_scores)\n",
        "\n",
        "    print(f\"Generated report card for {student_name}\")"
      ],
      "metadata": {
        "colab": {
          "base_uri": "https://localhost:8080/"
        },
        "id": "yuYFZjUq9Uwn",
        "outputId": "25c1bd6f-1acd-4001-d8d2-ae06c6a882a2"
      },
      "execution_count": 14,
      "outputs": [
        {
          "output_type": "stream",
          "name": "stdout",
          "text": [
            "Generated report card for Emily Davis\n",
            "Generated report card for Jane Smith\n",
            "Generated report card for John Doe\n"
          ]
        }
      ]
    },
    {
      "cell_type": "code",
      "source": [
        "from google.colab import drive\n",
        "drive.mount('/content/drive')"
      ],
      "metadata": {
        "id": "JwloEGQzxHSv"
      },
      "execution_count": null,
      "outputs": []
    }
  ]
}